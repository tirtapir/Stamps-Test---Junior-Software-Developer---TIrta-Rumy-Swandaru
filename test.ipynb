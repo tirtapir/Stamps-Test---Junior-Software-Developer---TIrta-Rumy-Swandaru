{
 "cells": [
  {
   "cell_type": "markdown",
   "metadata": {},
   "source": [
    "# A. Mini Test\n",
    "\n",
    "## 1. Small Program \n",
    "Please create an array/list of numbers from 1 to 100. Print all these numbers in reverse order, but with the following rules :\n",
    "1. Do not print prime numbers.\n",
    "2. Replace numbers divisible by 3 with the text \"Foo.\"\n",
    "3. Replace numbers divisible by 5 with the text \"Bar.\"\n",
    "4. Replace numbers divisible by both 3 and 5 with the text \"FooBar.\"\n",
    "5. Print the numbers horizontally, not vertically.\n",
    "\n",
    "Here is an example of the expected output :"
   ]
  },
  {
   "cell_type": "code",
   "execution_count": 21,
   "metadata": {},
   "outputs": [
    {
     "name": "stdout",
     "output_type": "stream",
     "text": [
      "Bar, Foo, 98, Foo, Bar, 94, Foo, 92, 91, FooBar, 88, Foo, 86, Bar, Foo, 82, Foo, Bar, Foo, 77, 76, FooBar, 74, Foo, Bar, Foo, 68, Foo, Bar, 64, Foo, 62, FooBar, 58, Foo, 56, Bar, Foo, 52, Foo, Bar, 49, Foo, 46, FooBar, 44, Foo, Bar, Foo, 38, Foo, Bar, 34, Foo, 32, FooBar, 28, Foo, 26, Bar, Foo, 22, Foo, Bar, Foo, 16, FooBar, 14, Foo, Bar, Foo, 8, Foo, 4, 1\n"
     ]
    }
   ],
   "source": [
    "def is_prime(n):\n",
    "    if n <= 1:\n",
    "        return False\n",
    "    for i in range(2, int(n ** 0.5) + 1):\n",
    "        if n % i == 0:\n",
    "            return False\n",
    "    return True\n",
    "\n",
    "def generate_reversed_list():\n",
    "    result = []\n",
    "    for i in range(100, 0, -1):\n",
    "        if is_prime(i):\n",
    "            continue\n",
    "        elif i % 3 == 0 and i % 5 == 0:\n",
    "            result.append(\"FooBar\")\n",
    "        elif i % 3 == 0:\n",
    "            result.append(\"Foo\")\n",
    "        elif i % 5 == 0:\n",
    "            result.append(\"Bar\")\n",
    "        else:\n",
    "            result.append(i)\n",
    "    return result\n",
    "\n",
    "output = generate_reversed_list()\n",
    "print(\", \".join(map(str, output)))\n"
   ]
  },
  {
   "cell_type": "markdown",
   "metadata": {},
   "source": [
    "## 2. Display the weather forecast for Jakarta for the next 5 days\n",
    "1. Please use the API provided at http://openweathermap.org.\n",
    "2. Display the output as the weather forecast for Jakarta for the next 5 days.\n",
    "3. Only show one temperature per day.\n",
    "4. This task does not require a paid account."
   ]
  },
  {
   "cell_type": "code",
   "execution_count": 20,
   "metadata": {},
   "outputs": [
    {
     "name": "stdout",
     "output_type": "stream",
     "text": [
      "Weather Forecast:\n",
      "Fri, 08 Nov 2024: 33.93°C\n",
      "Sat, 09 Nov 2024: 28.71°C\n",
      "Sun, 10 Nov 2024: 28.55°C\n",
      "Mon, 11 Nov 2024: 27.82°C\n",
      "Tue, 12 Nov 2024: 27.73°C\n"
     ]
    }
   ],
   "source": [
    "import requests\n",
    "from datetime import datetime\n",
    "\n",
    "API_KEY = '4eba549641cd4fe8072ccc915ba286a1'\n",
    "CITY = 'Jakarta'\n",
    "URL = f'http://api.openweathermap.org/data/2.5/forecast?q={CITY}&appid={API_KEY}&units=metric'\n",
    "\n",
    "def get_forecast():\n",
    "    response = requests.get(URL)\n",
    "    if response.status_code == 200:\n",
    "        data = response.json()\n",
    "        forecasts = {}\n",
    "\n",
    "        for entry in data['list']:\n",
    "            date = entry['dt_txt'].split(' ')[0]\n",
    "            temperature = entry['main']['temp']\n",
    "            if date not in forecasts:\n",
    "                forecasts[date] = temperature\n",
    "\n",
    "        print(\"Weather Forecast:\")\n",
    "        for i, (date, temp) in enumerate(forecasts.items()):\n",
    "            if i == 5:\n",
    "                break\n",
    "            date_obj = datetime.strptime(date, '%Y-%m-%d')\n",
    "            day = date_obj.strftime('%a, %d %b %Y')\n",
    "            print(f\"{day}: {temp:.2f}°C\")\n",
    "    else:\n",
    "        print(\"Failed to fetch weather data\")\n",
    "\n",
    "get_forecast()\n"
   ]
  },
  {
   "cell_type": "markdown",
   "metadata": {},
   "source": [
    "# B. Preliminary Questions and Health Statement\n",
    "**Please fill out the initial interview questions and your health statement via the links below :**\n",
    "### 1. [Preliminary Questions](https://hvyvp29i9c5.typeform.com/to/QmJzxjVz 'Preliminary Questions')\n",
    "\n",
    "#### (Done)\n"
   ]
  },
  {
   "cell_type": "markdown",
   "metadata": {},
   "source": [
    "### 2. [Health Statement](https://hvyvp29i9c5.typeform.com/to/yDXHjixx)\n",
    "\n",
    "#### (Done)"
   ]
  },
  {
   "cell_type": "markdown",
   "metadata": {},
   "source": [
    "# C. DISC Test\n",
    "**At Stamps, we value teamwork and collaboration. To help us ensure a great team fit, we kindly ask you to take the DISC test :**\n",
    "### [DISC Test](https://discpersonalitytesting.com/)"
   ]
  },
  {
   "cell_type": "markdown",
   "metadata": {},
   "source": [
    "![image.png](Disc_test_result.png)"
   ]
  },
  {
   "cell_type": "markdown",
   "metadata": {},
   "source": [
    "# D. Talent Assessment\n",
    "\n",
    "**Please complete the attached Gorilla Test to help us evaluate your skills :**\n",
    "\n",
    "### [Gorilla Test]('')"
   ]
  },
  {
   "cell_type": "markdown",
   "metadata": {},
   "source": [
    "![image.png](Gorilla-test.png)"
   ]
  }
 ],
 "metadata": {
  "kernelspec": {
   "display_name": "Python 3",
   "language": "python",
   "name": "python3"
  },
  "language_info": {
   "codemirror_mode": {
    "name": "ipython",
    "version": 3
   },
   "file_extension": ".py",
   "mimetype": "text/x-python",
   "name": "python",
   "nbconvert_exporter": "python",
   "pygments_lexer": "ipython3",
   "version": "3.11.9"
  },
  "orig_nbformat": 4
 },
 "nbformat": 4,
 "nbformat_minor": 2
}
